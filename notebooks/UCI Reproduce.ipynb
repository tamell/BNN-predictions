{
 "cells": [
  {
   "cell_type": "code",
   "execution_count": 20,
   "id": "cfd938c5",
   "metadata": {},
   "outputs": [],
   "source": [
    "import torch\n",
    "import numpy as np\n",
    "import matplotlib.pyplot as plt\n",
    "from torch.nn.utils import parameters_to_vector\n",
    "from torch.optim import Adam\n",
    "from preds.models import MLPS\n",
    "from preds.likelihoods import GaussianLh\n",
    "from preds.datasets import UCIClassificationDatasets\n",
    "from preds.laplace import Laplace"
   ]
  },
  {
   "cell_type": "code",
   "execution_count": 21,
   "id": "4bfa77ea",
   "metadata": {},
   "outputs": [],
   "source": [
    "width = 25\n",
    "depth = 3\n",
    "prior_prec = 0.1\n",
    "lr = 5e-3\n",
    "n_epochs = 1000\n",
    "lh = GaussianLh(sigma_noise=0.3)  # fixed to true noise\n",
    "uci_dataset = 'glass'\n",
    "root_dir = '/Users/tamire1/Documents/GitHub/BNN-predictions/data/'\n",
    "device = 'cpu'"
   ]
  },
  {
   "cell_type": "markdown",
   "id": "7d19437c",
   "metadata": {},
   "source": [
    "Load training data"
   ]
  },
  {
   "cell_type": "code",
   "execution_count": 22,
   "id": "cc03efe9",
   "metadata": {},
   "outputs": [],
   "source": [
    "ds_train = UCIClassificationDatasets(train=True, data_set=uci_dataset, split_train_size=0.95, double=False, root=root_dir)\n",
    "X_train, y_train = ds_train.data.to(device), ds_train.targets.to(device).unsqueeze(1)\n",
    "train_loader = [(X_train, y_train)]  # mock"
   ]
  },
  {
   "cell_type": "markdown",
   "id": "23b4bd32",
   "metadata": {},
   "source": [
    "Load validation data"
   ]
  },
  {
   "cell_type": "code",
   "execution_count": 23,
   "id": "a2b8dc22",
   "metadata": {},
   "outputs": [],
   "source": [
    "ds_val = UCIClassificationDatasets(train=False,valid=True, data_set=uci_dataset, split_train_size=0.95, double=False, root=root_dir)\n",
    "X_val, y_val = ds_val.data.to(device), ds_val.targets.to(device).unsqueeze(1)\n",
    "val_loader = [(X_val, y_val)] "
   ]
  },
  {
   "cell_type": "code",
   "execution_count": 24,
   "id": "dc546dde",
   "metadata": {},
   "outputs": [],
   "source": [
    "model = MLPS(X_train.shape[1], [width]*depth, 1, activation='tanh', flatten=False).to(device)\n",
    "optim = Adam(model.parameters(), lr=lr)\n",
    "losses = list()\n",
    "for i in range(n_epochs):\n",
    "    f = model(X_train)\n",
    "    w = parameters_to_vector(model.parameters())\n",
    "    reg = 0.5 * prior_prec * w @ w\n",
    "    loss = - lh.log_likelihood(y_train, f) + reg\n",
    "    loss.backward()\n",
    "    optim.step()\n",
    "    losses.append(loss.item())\n",
    "    model.zero_grad()\n",
    "# optionally: plt.plot(losses) to monitor convergence"
   ]
  },
  {
   "cell_type": "code",
   "execution_count": 25,
   "id": "9c144dd3",
   "metadata": {},
   "outputs": [],
   "source": [
    "lap = Laplace(model, float(prior_prec), lh)\n",
    "\n",
    "\n",
    "def get_pred_for(x, model_type='glm', cov_type='full'):\n",
    "    #### INFERENCE (Posterior approximation) ####\n",
    "    lap.infer(train_loader, cov_type=cov_type, dampen_kron=model_type=='bnn')\n",
    "    if model_type == 'glm':\n",
    "        #### GLM PREDICTIVE ####\n",
    "        mu, var = lap.predictive_samples_glm(x, n_samples=1000)\n",
    "    elif model_type == 'bnn':\n",
    "        #### BNN PREDICTIVE ####\n",
    "        samples = lap.predictive_samples_bnn(x, n_samples=1000)\n",
    "        mu, var = samples.mean(dim=0), samples.var(dim=0)\n",
    "    else:\n",
    "        raise ValueError('unsupported model_type.')\n",
    "    mu = mu.detach().cpu().squeeze().numpy()\n",
    "    var = var.detach().cpu().squeeze().numpy()\n",
    "    return mu, var"
   ]
  },
  {
   "cell_type": "code",
   "execution_count": 30,
   "id": "79e01035",
   "metadata": {},
   "outputs": [
    {
     "data": {
      "text/plain": [
       "torch.float32"
      ]
     },
     "execution_count": 30,
     "metadata": {},
     "output_type": "execute_result"
    }
   ],
   "source": [
    "print(X_train.dtype)\n",
    "print(X_val.dtype)\n",
    "print()"
   ]
  },
  {
   "cell_type": "code",
   "execution_count": 26,
   "id": "1c8da420",
   "metadata": {},
   "outputs": [
    {
     "ename": "RuntimeError",
     "evalue": "Found dtype Long but expected Float\nException raised from compute_types at /Users/distiller/project/conda/conda-bld/pytorch_1595629430416/work/aten/src/ATen/native/TensorIterator.cpp:183 (most recent call first):\nframe #0: c10::Error::Error(c10::SourceLocation, std::__1::basic_string<char, std::__1::char_traits<char>, std::__1::allocator<char> >) + 169 (0x10f2f9199 in libc10.dylib)\nframe #1: at::TensorIterator::compute_types(at::TensorIteratorConfig const&) + 3842 (0x134695312 in libtorch_cpu.dylib)\nframe #2: at::TensorIterator::build(at::TensorIteratorConfig&) + 618 (0x13469e51a in libtorch_cpu.dylib)\nframe #3: at::TensorIterator::TensorIterator(at::TensorIteratorConfig&) + 223 (0x13469e1ff in libtorch_cpu.dylib)\nframe #4: at::native::mse_loss_backward_out(at::Tensor&, at::Tensor const&, at::Tensor const&, at::Tensor const&, long long) + 410 (0x1344e9f7a in libtorch_cpu.dylib)\nframe #5: at::CPUType::mse_loss_backward_out_grad_input(at::Tensor&, at::Tensor const&, at::Tensor const&, at::Tensor const&, long long) + 9 (0x134907fe9 in libtorch_cpu.dylib)\nframe #6: at::mse_loss_backward_out(at::Tensor&, at::Tensor const&, at::Tensor const&, at::Tensor const&, long long) + 157 (0x1349bb44d in libtorch_cpu.dylib)\nframe #7: at::native::mse_loss_backward(at::Tensor const&, at::Tensor const&, at::Tensor const&, long long) + 118 (0x1344e9cf6 in libtorch_cpu.dylib)\nframe #8: at::CPUType::mse_loss_backward(at::Tensor const&, at::Tensor const&, at::Tensor const&, long long) + 14 (0x134907ffe in libtorch_cpu.dylib)\nframe #9: c10::impl::wrap_kernel_functor_unboxed_<c10::impl::detail::WrapFunctionIntoRuntimeFunctor_<at::Tensor (*)(at::Tensor const&, at::Tensor const&, at::Tensor const&, long long), at::Tensor, c10::guts::typelist::typelist<at::Tensor const&, at::Tensor const&, at::Tensor const&, long long> >, at::Tensor (at::Tensor const&, at::Tensor const&, at::Tensor const&, long long)>::call(c10::OperatorKernel*, at::Tensor const&, at::Tensor const&, at::Tensor const&, long long) + 27 (0x1342b987b in libtorch_cpu.dylib)\nframe #10: at::Tensor c10::Dispatcher::call<at::Tensor, at::Tensor const&, at::Tensor const&, at::Tensor const&, long long>(c10::TypedOperatorHandle<at::Tensor (at::Tensor const&, at::Tensor const&, at::Tensor const&, long long)> const&, at::Tensor const&, at::Tensor const&, at::Tensor const&, long long) const + 287 (0x1349ea13f in libtorch_cpu.dylib)\nframe #11: at::mse_loss_backward(at::Tensor const&, at::Tensor const&, at::Tensor const&, long long) + 157 (0x1349bb51d in libtorch_cpu.dylib)\nframe #12: torch::autograd::VariableType::mse_loss_backward(at::Tensor const&, at::Tensor const&, at::Tensor const&, long long) + 900 (0x1369869f4 in libtorch_cpu.dylib)\nframe #13: c10::impl::wrap_kernel_functor_unboxed_<c10::impl::detail::WrapFunctionIntoRuntimeFunctor_<at::Tensor (*)(at::Tensor const&, at::Tensor const&, at::Tensor const&, long long), at::Tensor, c10::guts::typelist::typelist<at::Tensor const&, at::Tensor const&, at::Tensor const&, long long> >, at::Tensor (at::Tensor const&, at::Tensor const&, at::Tensor const&, long long)>::call(c10::OperatorKernel*, at::Tensor const&, at::Tensor const&, at::Tensor const&, long long) + 27 (0x1342b987b in libtorch_cpu.dylib)\nframe #14: at::Tensor c10::Dispatcher::call<at::Tensor, at::Tensor const&, at::Tensor const&, at::Tensor const&, long long>(c10::TypedOperatorHandle<at::Tensor (at::Tensor const&, at::Tensor const&, at::Tensor const&, long long)> const&, at::Tensor const&, at::Tensor const&, at::Tensor const&, long long) const + 287 (0x1349ea13f in libtorch_cpu.dylib)\nframe #15: at::mse_loss_backward(at::Tensor const&, at::Tensor const&, at::Tensor const&, long long) + 157 (0x1349bb51d in libtorch_cpu.dylib)\nframe #16: torch::autograd::generated::MseLossBackward::apply(std::__1::vector<at::Tensor, std::__1::allocator<at::Tensor> >&&) + 298 (0x136811dca in libtorch_cpu.dylib)\nframe #17: torch::autograd::Node::operator()(std::__1::vector<at::Tensor, std::__1::allocator<at::Tensor> >&&) + 742 (0x136f6b636 in libtorch_cpu.dylib)\nframe #18: torch::autograd::Engine::evaluate_function(std::__1::shared_ptr<torch::autograd::GraphTask>&, torch::autograd::Node*, torch::autograd::InputBuffer&, std::__1::shared_ptr<torch::autograd::ReadyQueue> const&) + 1661 (0x136f6063d in libtorch_cpu.dylib)\nframe #19: torch::autograd::Engine::thread_main(std::__1::shared_ptr<torch::autograd::GraphTask> const&) + 764 (0x136f5f66c in libtorch_cpu.dylib)\nframe #20: torch::autograd::Engine::execute_with_graph_task(std::__1::shared_ptr<torch::autograd::GraphTask> const&, std::__1::shared_ptr<torch::autograd::Node>) + 1023 (0x136f696cf in libtorch_cpu.dylib)\nframe #21: torch::autograd::python::PythonEngine::execute_with_graph_task(std::__1::shared_ptr<torch::autograd::GraphTask> const&, std::__1::shared_ptr<torch::autograd::Node>) + 53 (0x11536b145 in libtorch_python.dylib)\nframe #22: torch::autograd::Engine::execute(std::__1::vector<torch::autograd::Edge, std::__1::allocator<torch::autograd::Edge> > const&, std::__1::vector<at::Tensor, std::__1::allocator<at::Tensor> > const&, bool, bool, std::__1::vector<torch::autograd::Edge, std::__1::allocator<torch::autograd::Edge> > const&) + 662 (0x136f67d36 in libtorch_cpu.dylib)\nframe #23: torch::autograd::python::PythonEngine::execute(std::__1::vector<torch::autograd::Edge, std::__1::allocator<torch::autograd::Edge> > const&, std::__1::vector<at::Tensor, std::__1::allocator<at::Tensor> > const&, bool, bool, std::__1::vector<torch::autograd::Edge, std::__1::allocator<torch::autograd::Edge> > const&) + 82 (0x11536af42 in libtorch_python.dylib)\nframe #24: THPEngine_run_backward(THPEngine*, _object*, _object*) + 2174 (0x11536baee in libtorch_python.dylib)\nframe #25: _PyMethodDef_RawFastCallKeywords + 642 (0x1049b2d42 in python3.7)\nframe #26: call_function + 257 (0x104af32b1 in python3.7)\nframe #27: _PyEval_EvalFrameDefault + 45890 (0x104af1052 in python3.7)\nframe #28: _PyEval_EvalCodeWithName + 418 (0x104ae4a42 in python3.7)\nframe #29: _PyFunction_FastCallKeywords + 195 (0x1049b2a73 in python3.7)\nframe #30: call_function + 181 (0x104af3265 in python3.7)\nframe #31: _PyEval_EvalFrameDefault + 45215 (0x104af0daf in python3.7)\nframe #32: _PyEval_EvalCodeWithName + 418 (0x104ae4a42 in python3.7)\nframe #33: _PyFunction_FastCallKeywords + 195 (0x1049b2a73 in python3.7)\nframe #34: call_function + 181 (0x104af3265 in python3.7)\nframe #35: _PyEval_EvalFrameDefault + 45065 (0x104af0d19 in python3.7)\nframe #36: _PyEval_EvalCodeWithName + 418 (0x104ae4a42 in python3.7)\nframe #37: _PyFunction_FastCallKeywords + 195 (0x1049b2a73 in python3.7)\nframe #38: call_function + 181 (0x104af3265 in python3.7)\nframe #39: _PyEval_EvalFrameDefault + 45890 (0x104af1052 in python3.7)\nframe #40: _PyEval_EvalCodeWithName + 418 (0x104ae4a42 in python3.7)\nframe #41: _PyFunction_FastCallKeywords + 195 (0x1049b2a73 in python3.7)\nframe #42: call_function + 181 (0x104af3265 in python3.7)\nframe #43: _PyEval_EvalFrameDefault + 45705 (0x104af0f99 in python3.7)\nframe #44: _PyEval_EvalCodeWithName + 418 (0x104ae4a42 in python3.7)\nframe #45: builtin_exec + 347 (0x104adf83b in python3.7)\nframe #46: _PyMethodDef_RawFastCallKeywords + 230 (0x1049b2ba6 in python3.7)\nframe #47: call_function + 257 (0x104af32b1 in python3.7)\nframe #48: _PyEval_EvalFrameDefault + 45705 (0x104af0f99 in python3.7)\nframe #49: gen_send_ex + 180 (0x1049cbc04 in python3.7)\nframe #50: _PyEval_EvalFrameDefault + 25228 (0x104aebf9c in python3.7)\nframe #51: gen_send_ex + 180 (0x1049cbc04 in python3.7)\nframe #52: _PyEval_EvalFrameDefault + 25228 (0x104aebf9c in python3.7)\nframe #53: gen_send_ex + 180 (0x1049cbc04 in python3.7)\nframe #54: _PyMethodDef_RawFastCallKeywords + 131 (0x1049b2b43 in python3.7)\nframe #55: _PyMethodDescr_FastCallKeywords + 84 (0x1049bfae4 in python3.7)\nframe #56: call_function + 382 (0x104af332e in python3.7)\nframe #57: _PyEval_EvalFrameDefault + 45065 (0x104af0d19 in python3.7)\nframe #58: function_code_fastcall + 120 (0x1049b2368 in python3.7)\nframe #59: call_function + 181 (0x104af3265 in python3.7)\nframe #60: _PyEval_EvalFrameDefault + 45705 (0x104af0f99 in python3.7)\nframe #61: function_code_fastcall + 120 (0x1049b2368 in python3.7)\nframe #62: call_function + 181 (0x104af3265 in python3.7)\nframe #63: _PyEval_EvalFrameDefault + 45065 (0x104af0d19 in python3.7)\n",
     "output_type": "error",
     "traceback": [
      "\u001b[0;31m---------------------------------------------------------------------------\u001b[0m",
      "\u001b[0;31mRuntimeError\u001b[0m                              Traceback (most recent call last)",
      "\u001b[0;32m/var/folders/mb/q209wf797q9b2mggmld8bt8w0000gp/T/ipykernel_25243/1654105522.py\u001b[0m in \u001b[0;36m<module>\u001b[0;34m\u001b[0m\n\u001b[1;32m      2\u001b[0m \u001b[0;34m\u001b[0m\u001b[0m\n\u001b[1;32m      3\u001b[0m \u001b[0mmu\u001b[0m\u001b[0;34m,\u001b[0m \u001b[0mvar\u001b[0m \u001b[0;34m=\u001b[0m \u001b[0mget_pred_for\u001b[0m\u001b[0;34m(\u001b[0m\u001b[0mX_val\u001b[0m\u001b[0;34m,\u001b[0m \u001b[0;34m'glm'\u001b[0m\u001b[0;34m,\u001b[0m \u001b[0;34m'full'\u001b[0m\u001b[0;34m)\u001b[0m\u001b[0;34m\u001b[0m\u001b[0m\n\u001b[0;32m----> 4\u001b[0;31m \u001b[0mmu\u001b[0m\u001b[0;34m,\u001b[0m \u001b[0mvar\u001b[0m \u001b[0;34m=\u001b[0m \u001b[0mget_pred_for\u001b[0m\u001b[0;34m(\u001b[0m\u001b[0mX_val\u001b[0m\u001b[0;34m,\u001b[0m \u001b[0;34m'glm'\u001b[0m\u001b[0;34m,\u001b[0m \u001b[0;34m'kron'\u001b[0m\u001b[0;34m)\u001b[0m\u001b[0;34m\u001b[0m\u001b[0m\n\u001b[0m\u001b[1;32m      5\u001b[0m \u001b[0mmu\u001b[0m\u001b[0;34m,\u001b[0m \u001b[0mvar\u001b[0m \u001b[0;34m=\u001b[0m \u001b[0mget_pred_for\u001b[0m\u001b[0;34m(\u001b[0m\u001b[0mX_val\u001b[0m\u001b[0;34m,\u001b[0m \u001b[0;34m'glm'\u001b[0m\u001b[0;34m,\u001b[0m \u001b[0;34m'diag'\u001b[0m\u001b[0;34m)\u001b[0m\u001b[0;34m\u001b[0m\u001b[0m\n",
      "\u001b[0;32m/var/folders/mb/q209wf797q9b2mggmld8bt8w0000gp/T/ipykernel_25243/782339820.py\u001b[0m in \u001b[0;36mget_pred_for\u001b[0;34m(x, model_type, cov_type)\u001b[0m\n\u001b[1;32m      4\u001b[0m \u001b[0;32mdef\u001b[0m \u001b[0mget_pred_for\u001b[0m\u001b[0;34m(\u001b[0m\u001b[0mx\u001b[0m\u001b[0;34m,\u001b[0m \u001b[0mmodel_type\u001b[0m\u001b[0;34m=\u001b[0m\u001b[0;34m'glm'\u001b[0m\u001b[0;34m,\u001b[0m \u001b[0mcov_type\u001b[0m\u001b[0;34m=\u001b[0m\u001b[0;34m'full'\u001b[0m\u001b[0;34m)\u001b[0m\u001b[0;34m:\u001b[0m\u001b[0;34m\u001b[0m\u001b[0m\n\u001b[1;32m      5\u001b[0m     \u001b[0;31m#### INFERENCE (Posterior approximation) ####\u001b[0m\u001b[0;34m\u001b[0m\u001b[0;34m\u001b[0m\u001b[0m\n\u001b[0;32m----> 6\u001b[0;31m     \u001b[0mlap\u001b[0m\u001b[0;34m.\u001b[0m\u001b[0minfer\u001b[0m\u001b[0;34m(\u001b[0m\u001b[0mtrain_loader\u001b[0m\u001b[0;34m,\u001b[0m \u001b[0mcov_type\u001b[0m\u001b[0;34m=\u001b[0m\u001b[0mcov_type\u001b[0m\u001b[0;34m,\u001b[0m \u001b[0mdampen_kron\u001b[0m\u001b[0;34m=\u001b[0m\u001b[0mmodel_type\u001b[0m\u001b[0;34m==\u001b[0m\u001b[0;34m'bnn'\u001b[0m\u001b[0;34m)\u001b[0m\u001b[0;34m\u001b[0m\u001b[0m\n\u001b[0m\u001b[1;32m      7\u001b[0m     \u001b[0;32mif\u001b[0m \u001b[0mmodel_type\u001b[0m \u001b[0;34m==\u001b[0m \u001b[0;34m'glm'\u001b[0m\u001b[0;34m:\u001b[0m\u001b[0;34m\u001b[0m\u001b[0m\n\u001b[1;32m      8\u001b[0m         \u001b[0;31m#### GLM PREDICTIVE ####\u001b[0m\u001b[0;34m\u001b[0m\u001b[0;34m\u001b[0m\u001b[0m\n",
      "\u001b[0;32m~/miniconda3/envs/bnn-env-3/lib/python3.7/site-packages/preds/laplace.py\u001b[0m in \u001b[0;36minfer\u001b[0;34m(self, train_loader, cov_type, dampen_kron)\u001b[0m\n\u001b[1;32m     74\u001b[0m                 \u001b[0mloss\u001b[0m \u001b[0;34m=\u001b[0m \u001b[0mlossfunc\u001b[0m\u001b[0;34m(\u001b[0m\u001b[0mf\u001b[0m\u001b[0;34m,\u001b[0m \u001b[0my\u001b[0m\u001b[0;34m)\u001b[0m\u001b[0;34m\u001b[0m\u001b[0m\n\u001b[1;32m     75\u001b[0m                 \u001b[0;32mwith\u001b[0m \u001b[0mbackpack\u001b[0m\u001b[0;34m(\u001b[0m\u001b[0mKFLR\u001b[0m\u001b[0;34m(\u001b[0m\u001b[0;34m)\u001b[0m\u001b[0;34m)\u001b[0m\u001b[0;34m:\u001b[0m\u001b[0;34m\u001b[0m\u001b[0m\n\u001b[0;32m---> 76\u001b[0;31m                     \u001b[0mloss\u001b[0m\u001b[0;34m.\u001b[0m\u001b[0mbackward\u001b[0m\u001b[0;34m(\u001b[0m\u001b[0;34m)\u001b[0m\u001b[0;34m\u001b[0m\u001b[0m\n\u001b[0m\u001b[1;32m     77\u001b[0m                 \u001b[0;31m# update precision\u001b[0m\u001b[0;34m\u001b[0m\u001b[0;34m\u001b[0m\u001b[0m\n\u001b[1;32m     78\u001b[0m                 \u001b[0mprecision\u001b[0m\u001b[0;34m.\u001b[0m\u001b[0mupdate\u001b[0m\u001b[0;34m(\u001b[0m\u001b[0;34m[\u001b[0m\u001b[0mp\u001b[0m\u001b[0;34m.\u001b[0m\u001b[0mkflr\u001b[0m \u001b[0;32mfor\u001b[0m \u001b[0mp\u001b[0m \u001b[0;32min\u001b[0m \u001b[0mmodel\u001b[0m\u001b[0;34m.\u001b[0m\u001b[0mparameters\u001b[0m\u001b[0;34m(\u001b[0m\u001b[0;34m)\u001b[0m\u001b[0;34m]\u001b[0m\u001b[0;34m,\u001b[0m \u001b[0mfactor\u001b[0m\u001b[0;34m=\u001b[0m\u001b[0mhess_factor\u001b[0m\u001b[0;34m,\u001b[0m \u001b[0mbatch_factor\u001b[0m\u001b[0;34m=\u001b[0m\u001b[0mM\u001b[0m\u001b[0;34m/\u001b[0m\u001b[0mN\u001b[0m\u001b[0;34m)\u001b[0m\u001b[0;34m\u001b[0m\u001b[0m\n",
      "\u001b[0;32m~/miniconda3/envs/bnn-env-3/lib/python3.7/site-packages/torch/tensor.py\u001b[0m in \u001b[0;36mbackward\u001b[0;34m(self, gradient, retain_graph, create_graph)\u001b[0m\n\u001b[1;32m    183\u001b[0m                 \u001b[0mproducts\u001b[0m\u001b[0;34m.\u001b[0m \u001b[0mDefaults\u001b[0m \u001b[0mto\u001b[0m\u001b[0;31m \u001b[0m\u001b[0;31m`\u001b[0m\u001b[0;31m`\u001b[0m\u001b[0;32mFalse\u001b[0m\u001b[0;31m`\u001b[0m\u001b[0;31m`\u001b[0m\u001b[0;34m.\u001b[0m\u001b[0;34m\u001b[0m\u001b[0m\n\u001b[1;32m    184\u001b[0m         \"\"\"\n\u001b[0;32m--> 185\u001b[0;31m         \u001b[0mtorch\u001b[0m\u001b[0;34m.\u001b[0m\u001b[0mautograd\u001b[0m\u001b[0;34m.\u001b[0m\u001b[0mbackward\u001b[0m\u001b[0;34m(\u001b[0m\u001b[0mself\u001b[0m\u001b[0;34m,\u001b[0m \u001b[0mgradient\u001b[0m\u001b[0;34m,\u001b[0m \u001b[0mretain_graph\u001b[0m\u001b[0;34m,\u001b[0m \u001b[0mcreate_graph\u001b[0m\u001b[0;34m)\u001b[0m\u001b[0;34m\u001b[0m\u001b[0m\n\u001b[0m\u001b[1;32m    186\u001b[0m \u001b[0;34m\u001b[0m\u001b[0m\n\u001b[1;32m    187\u001b[0m     \u001b[0;32mdef\u001b[0m \u001b[0mregister_hook\u001b[0m\u001b[0;34m(\u001b[0m\u001b[0mself\u001b[0m\u001b[0;34m,\u001b[0m \u001b[0mhook\u001b[0m\u001b[0;34m)\u001b[0m\u001b[0;34m:\u001b[0m\u001b[0;34m\u001b[0m\u001b[0m\n",
      "\u001b[0;32m~/miniconda3/envs/bnn-env-3/lib/python3.7/site-packages/torch/autograd/__init__.py\u001b[0m in \u001b[0;36mbackward\u001b[0;34m(tensors, grad_tensors, retain_graph, create_graph, grad_variables)\u001b[0m\n\u001b[1;32m    125\u001b[0m     Variable._execution_engine.run_backward(\n\u001b[1;32m    126\u001b[0m         \u001b[0mtensors\u001b[0m\u001b[0;34m,\u001b[0m \u001b[0mgrad_tensors\u001b[0m\u001b[0;34m,\u001b[0m \u001b[0mretain_graph\u001b[0m\u001b[0;34m,\u001b[0m \u001b[0mcreate_graph\u001b[0m\u001b[0;34m,\u001b[0m\u001b[0;34m\u001b[0m\u001b[0m\n\u001b[0;32m--> 127\u001b[0;31m         allow_unreachable=True)  # allow_unreachable flag\n\u001b[0m\u001b[1;32m    128\u001b[0m \u001b[0;34m\u001b[0m\u001b[0m\n\u001b[1;32m    129\u001b[0m \u001b[0;34m\u001b[0m\u001b[0m\n",
      "\u001b[0;31mRuntimeError\u001b[0m: Found dtype Long but expected Float\nException raised from compute_types at /Users/distiller/project/conda/conda-bld/pytorch_1595629430416/work/aten/src/ATen/native/TensorIterator.cpp:183 (most recent call first):\nframe #0: c10::Error::Error(c10::SourceLocation, std::__1::basic_string<char, std::__1::char_traits<char>, std::__1::allocator<char> >) + 169 (0x10f2f9199 in libc10.dylib)\nframe #1: at::TensorIterator::compute_types(at::TensorIteratorConfig const&) + 3842 (0x134695312 in libtorch_cpu.dylib)\nframe #2: at::TensorIterator::build(at::TensorIteratorConfig&) + 618 (0x13469e51a in libtorch_cpu.dylib)\nframe #3: at::TensorIterator::TensorIterator(at::TensorIteratorConfig&) + 223 (0x13469e1ff in libtorch_cpu.dylib)\nframe #4: at::native::mse_loss_backward_out(at::Tensor&, at::Tensor const&, at::Tensor const&, at::Tensor const&, long long) + 410 (0x1344e9f7a in libtorch_cpu.dylib)\nframe #5: at::CPUType::mse_loss_backward_out_grad_input(at::Tensor&, at::Tensor const&, at::Tensor const&, at::Tensor const&, long long) + 9 (0x134907fe9 in libtorch_cpu.dylib)\nframe #6: at::mse_loss_backward_out(at::Tensor&, at::Tensor const&, at::Tensor const&, at::Tensor const&, long long) + 157 (0x1349bb44d in libtorch_cpu.dylib)\nframe #7: at::native::mse_loss_backward(at::Tensor const&, at::Tensor const&, at::Tensor const&, long long) + 118 (0x1344e9cf6 in libtorch_cpu.dylib)\nframe #8: at::CPUType::mse_loss_backward(at::Tensor const&, at::Tensor const&, at::Tensor const&, long long) + 14 (0x134907ffe in libtorch_cpu.dylib)\nframe #9: c10::impl::wrap_kernel_functor_unboxed_<c10::impl::detail::WrapFunctionIntoRuntimeFunctor_<at::Tensor (*)(at::Tensor const&, at::Tensor const&, at::Tensor const&, long long), at::Tensor, c10::guts::typelist::typelist<at::Tensor const&, at::Tensor const&, at::Tensor const&, long long> >, at::Tensor (at::Tensor const&, at::Tensor const&, at::Tensor const&, long long)>::call(c10::OperatorKernel*, at::Tensor const&, at::Tensor const&, at::Tensor const&, long long) + 27 (0x1342b987b in libtorch_cpu.dylib)\nframe #10: at::Tensor c10::Dispatcher::call<at::Tensor, at::Tensor const&, at::Tensor const&, at::Tensor const&, long long>(c10::TypedOperatorHandle<at::Tensor (at::Tensor const&, at::Tensor const&, at::Tensor const&, long long)> const&, at::Tensor const&, at::Tensor const&, at::Tensor const&, long long) const + 287 (0x1349ea13f in libtorch_cpu.dylib)\nframe #11: at::mse_loss_backward(at::Tensor const&, at::Tensor const&, at::Tensor const&, long long) + 157 (0x1349bb51d in libtorch_cpu.dylib)\nframe #12: torch::autograd::VariableType::mse_loss_backward(at::Tensor const&, at::Tensor const&, at::Tensor const&, long long) + 900 (0x1369869f4 in libtorch_cpu.dylib)\nframe #13: c10::impl::wrap_kernel_functor_unboxed_<c10::impl::detail::WrapFunctionIntoRuntimeFunctor_<at::Tensor (*)(at::Tensor const&, at::Tensor const&, at::Tensor const&, long long), at::Tensor, c10::guts::typelist::typelist<at::Tensor const&, at::Tensor const&, at::Tensor const&, long long> >, at::Tensor (at::Tensor const&, at::Tensor const&, at::Tensor const&, long long)>::call(c10::OperatorKernel*, at::Tensor const&, at::Tensor const&, at::Tensor const&, long long) + 27 (0x1342b987b in libtorch_cpu.dylib)\nframe #14: at::Tensor c10::Dispatcher::call<at::Tensor, at::Tensor const&, at::Tensor const&, at::Tensor const&, long long>(c10::TypedOperatorHandle<at::Tensor (at::Tensor const&, at::Tensor const&, at::Tensor const&, long long)> const&, at::Tensor const&, at::Tensor const&, at::Tensor const&, long long) const + 287 (0x1349ea13f in libtorch_cpu.dylib)\nframe #15: at::mse_loss_backward(at::Tensor const&, at::Tensor const&, at::Tensor const&, long long) + 157 (0x1349bb51d in libtorch_cpu.dylib)\nframe #16: torch::autograd::generated::MseLossBackward::apply(std::__1::vector<at::Tensor, std::__1::allocator<at::Tensor> >&&) + 298 (0x136811dca in libtorch_cpu.dylib)\nframe #17: torch::autograd::Node::operator()(std::__1::vector<at::Tensor, std::__1::allocator<at::Tensor> >&&) + 742 (0x136f6b636 in libtorch_cpu.dylib)\nframe #18: torch::autograd::Engine::evaluate_function(std::__1::shared_ptr<torch::autograd::GraphTask>&, torch::autograd::Node*, torch::autograd::InputBuffer&, std::__1::shared_ptr<torch::autograd::ReadyQueue> const&) + 1661 (0x136f6063d in libtorch_cpu.dylib)\nframe #19: torch::autograd::Engine::thread_main(std::__1::shared_ptr<torch::autograd::GraphTask> const&) + 764 (0x136f5f66c in libtorch_cpu.dylib)\nframe #20: torch::autograd::Engine::execute_with_graph_task(std::__1::shared_ptr<torch::autograd::GraphTask> const&, std::__1::shared_ptr<torch::autograd::Node>) + 1023 (0x136f696cf in libtorch_cpu.dylib)\nframe #21: torch::autograd::python::PythonEngine::execute_with_graph_task(std::__1::shared_ptr<torch::autograd::GraphTask> const&, std::__1::shared_ptr<torch::autograd::Node>) + 53 (0x11536b145 in libtorch_python.dylib)\nframe #22: torch::autograd::Engine::execute(std::__1::vector<torch::autograd::Edge, std::__1::allocator<torch::autograd::Edge> > const&, std::__1::vector<at::Tensor, std::__1::allocator<at::Tensor> > const&, bool, bool, std::__1::vector<torch::autograd::Edge, std::__1::allocator<torch::autograd::Edge> > const&) + 662 (0x136f67d36 in libtorch_cpu.dylib)\nframe #23: torch::autograd::python::PythonEngine::execute(std::__1::vector<torch::autograd::Edge, std::__1::allocator<torch::autograd::Edge> > const&, std::__1::vector<at::Tensor, std::__1::allocator<at::Tensor> > const&, bool, bool, std::__1::vector<torch::autograd::Edge, std::__1::allocator<torch::autograd::Edge> > const&) + 82 (0x11536af42 in libtorch_python.dylib)\nframe #24: THPEngine_run_backward(THPEngine*, _object*, _object*) + 2174 (0x11536baee in libtorch_python.dylib)\nframe #25: _PyMethodDef_RawFastCallKeywords + 642 (0x1049b2d42 in python3.7)\nframe #26: call_function + 257 (0x104af32b1 in python3.7)\nframe #27: _PyEval_EvalFrameDefault + 45890 (0x104af1052 in python3.7)\nframe #28: _PyEval_EvalCodeWithName + 418 (0x104ae4a42 in python3.7)\nframe #29: _PyFunction_FastCallKeywords + 195 (0x1049b2a73 in python3.7)\nframe #30: call_function + 181 (0x104af3265 in python3.7)\nframe #31: _PyEval_EvalFrameDefault + 45215 (0x104af0daf in python3.7)\nframe #32: _PyEval_EvalCodeWithName + 418 (0x104ae4a42 in python3.7)\nframe #33: _PyFunction_FastCallKeywords + 195 (0x1049b2a73 in python3.7)\nframe #34: call_function + 181 (0x104af3265 in python3.7)\nframe #35: _PyEval_EvalFrameDefault + 45065 (0x104af0d19 in python3.7)\nframe #36: _PyEval_EvalCodeWithName + 418 (0x104ae4a42 in python3.7)\nframe #37: _PyFunction_FastCallKeywords + 195 (0x1049b2a73 in python3.7)\nframe #38: call_function + 181 (0x104af3265 in python3.7)\nframe #39: _PyEval_EvalFrameDefault + 45890 (0x104af1052 in python3.7)\nframe #40: _PyEval_EvalCodeWithName + 418 (0x104ae4a42 in python3.7)\nframe #41: _PyFunction_FastCallKeywords + 195 (0x1049b2a73 in python3.7)\nframe #42: call_function + 181 (0x104af3265 in python3.7)\nframe #43: _PyEval_EvalFrameDefault + 45705 (0x104af0f99 in python3.7)\nframe #44: _PyEval_EvalCodeWithName + 418 (0x104ae4a42 in python3.7)\nframe #45: builtin_exec + 347 (0x104adf83b in python3.7)\nframe #46: _PyMethodDef_RawFastCallKeywords + 230 (0x1049b2ba6 in python3.7)\nframe #47: call_function + 257 (0x104af32b1 in python3.7)\nframe #48: _PyEval_EvalFrameDefault + 45705 (0x104af0f99 in python3.7)\nframe #49: gen_send_ex + 180 (0x1049cbc04 in python3.7)\nframe #50: _PyEval_EvalFrameDefault + 25228 (0x104aebf9c in python3.7)\nframe #51: gen_send_ex + 180 (0x1049cbc04 in python3.7)\nframe #52: _PyEval_EvalFrameDefault + 25228 (0x104aebf9c in python3.7)\nframe #53: gen_send_ex + 180 (0x1049cbc04 in python3.7)\nframe #54: _PyMethodDef_RawFastCallKeywords + 131 (0x1049b2b43 in python3.7)\nframe #55: _PyMethodDescr_FastCallKeywords + 84 (0x1049bfae4 in python3.7)\nframe #56: call_function + 382 (0x104af332e in python3.7)\nframe #57: _PyEval_EvalFrameDefault + 45065 (0x104af0d19 in python3.7)\nframe #58: function_code_fastcall + 120 (0x1049b2368 in python3.7)\nframe #59: call_function + 181 (0x104af3265 in python3.7)\nframe #60: _PyEval_EvalFrameDefault + 45705 (0x104af0f99 in python3.7)\nframe #61: function_code_fastcall + 120 (0x1049b2368 in python3.7)\nframe #62: call_function + 181 (0x104af3265 in python3.7)\nframe #63: _PyEval_EvalFrameDefault + 45065 (0x104af0d19 in python3.7)\n"
     ]
    }
   ],
   "source": [
    "# GLM\n",
    "\n",
    "mu, var = get_pred_for(X_val, 'glm', 'full')\n",
    "mu, var = get_pred_for(X_val, 'glm', 'kron')\n",
    "mu, var = get_pred_for(X_val, 'glm', 'diag')"
   ]
  }
 ],
 "metadata": {
  "kernelspec": {
   "display_name": "Python 3 (ipykernel)",
   "language": "python",
   "name": "python3"
  },
  "language_info": {
   "codemirror_mode": {
    "name": "ipython",
    "version": 3
   },
   "file_extension": ".py",
   "mimetype": "text/x-python",
   "name": "python",
   "nbconvert_exporter": "python",
   "pygments_lexer": "ipython3",
   "version": "3.7.0"
  }
 },
 "nbformat": 4,
 "nbformat_minor": 5
}
