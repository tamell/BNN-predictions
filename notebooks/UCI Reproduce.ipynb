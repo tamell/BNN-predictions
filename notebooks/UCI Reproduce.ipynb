{
 "cells": [
  {
   "cell_type": "code",
   "execution_count": 2,
   "id": "cce7f49f",
   "metadata": {},
   "outputs": [],
   "source": [
    "import torch\n",
    "import numpy as np\n",
    "import matplotlib.pyplot as plt\n",
    "from torch.nn.utils import parameters_to_vector\n",
    "from torch.optim import Adam\n",
    "from torch.distributions import MultivariateNormal, Normal\n",
    "from preds.models import MLPS\n",
    "\n",
    "from preds.likelihoods import GaussianLh\n",
    "from preds.datasets import UCIClassificationDatasets\n",
    "from preds.laplace import Laplace"
   ]
  },
  {
   "cell_type": "code",
   "execution_count": 3,
   "id": "fd036c14",
   "metadata": {},
   "outputs": [],
   "source": [
    "width = 50 # as in Immer et al. \n",
    "depth = 2 # as in Immer et al. \n",
    "prior_prec = np.logspace(-2, 2, num=10)[0] # as in Immer et al. but depends on dataset\n",
    "lr = 1e-3 # as in Immer et al. \n",
    "n_epochs = 10000\n",
    "n_samples = 1000\n",
    "train_size = 0.70 # as in Immer et al. \n",
    "lh = GaussianLh(sigma_noise=0.3)  \n",
    "uci_dataset = 'glass'\n",
    "root_dir = '../data/'\n",
    "device = 'cpu'"
   ]
  },
  {
   "cell_type": "markdown",
   "id": "5bbdd49f",
   "metadata": {},
   "source": [
    "Load training data"
   ]
  },
  {
   "cell_type": "code",
   "execution_count": 86,
   "id": "c2b75edf",
   "metadata": {},
   "outputs": [],
   "source": [
    "ds_train = UCIClassificationDatasets(train=True, data_set=uci_dataset, split_train_size=train_size, double=False, root=root_dir)\n",
    "X_train, y_train = ds_train.data.to(device), ds_train.targets.to(device).unsqueeze(1)\n",
    "train_loader = [(X_train, y_train)]  "
   ]
  },
  {
   "cell_type": "markdown",
   "id": "d202d34d",
   "metadata": {},
   "source": [
    "Load validation data"
   ]
  },
  {
   "cell_type": "code",
   "execution_count": 87,
   "id": "410628e9",
   "metadata": {},
   "outputs": [],
   "source": [
    "ds_val = UCIClassificationDatasets(train=False,valid=True, data_set=uci_dataset, split_train_size=train_size, double=False, root=root_dir)\n",
    "X_val, y_val = ds_val.data.to(device), ds_val.targets.to(device).unsqueeze(1)\n",
    "val_loader = [(X_val, y_val)] "
   ]
  },
  {
   "cell_type": "code",
   "execution_count": 59,
   "id": "d5ce17a2",
   "metadata": {},
   "outputs": [
    {
     "data": {
      "text/plain": [
       "torch.Size([149, 9])"
      ]
     },
     "execution_count": 59,
     "metadata": {},
     "output_type": "execute_result"
    }
   ],
   "source": [
    "X_train.shape"
   ]
  },
  {
   "cell_type": "code",
   "execution_count": 88,
   "id": "0ae9719f",
   "metadata": {},
   "outputs": [],
   "source": [
    "model = MLPS(X_train.shape[1], [width]*depth, 1, activation='tanh', flatten=False).to(device)\n",
    "optim = Adam(model.parameters(), lr=lr)\n",
    "losses = list()\n",
    "for i in range(n_epochs):\n",
    "    f = model(X_train)\n",
    "    w = parameters_to_vector(model.parameters())\n",
    "    reg = 0.5 * prior_prec * w @ w\n",
    "    loss = - lh.log_likelihood(y_train, f) + reg\n",
    "    loss.backward()\n",
    "    optim.step()\n",
    "    losses.append(loss.item())\n",
    "    model.zero_grad()\n"
   ]
  },
  {
   "cell_type": "code",
   "execution_count": 89,
   "id": "bc8bb255",
   "metadata": {},
   "outputs": [],
   "source": [
    "lap = Laplace(model, float(prior_prec), lh)\n",
    "\n",
    "\n",
    "def get_pred_for(x, model_type='glm', cov_type='full'):\n",
    "    #### INFERENCE (Posterior approximation) ####\n",
    "    lap.infer(train_loader, cov_type=cov_type, dampen_kron=model_type=='bnn')\n",
    "    if model_type == 'glm':\n",
    "        #### GLM PREDICTIVE ####\n",
    "        mu, var = lap.predictive_samples_glm(x, n_samples=n_samples)\n",
    "    elif model_type == 'bnn':\n",
    "        #### BNN PREDICTIVE ####\n",
    "        samples = lap.predictive_samples_bnn(x, n_samples=n_samples)\n",
    "        mu = samples.mean(axis=0)\n",
    "        var = samples.cov(axis=0)\n",
    "    else:\n",
    "        raise ValueError('unsupported model_type.')\n",
    "    mu = mu.detach().cpu().squeeze()\n",
    "    var = var.detach().cpu().squeeze()\n",
    "    return mu, var"
   ]
  },
  {
   "cell_type": "code",
   "execution_count": 31,
   "id": "7435e9d6",
   "metadata": {},
   "outputs": [
    {
     "name": "stdout",
     "output_type": "stream",
     "text": [
      "torch.float32\n",
      "torch.float32\n",
      "float32\n"
     ]
    }
   ],
   "source": [
    "print(X_train.dtype)\n",
    "print(X_val.dtype)\n",
    "print(mu.dtype)"
   ]
  },
  {
   "cell_type": "code",
   "execution_count": 90,
   "id": "17bae456",
   "metadata": {},
   "outputs": [
    {
     "ename": "AttributeError",
     "evalue": "'Tensor' object has no attribute 'cov'",
     "output_type": "error",
     "traceback": [
      "\u001b[0;31m---------------------------------------------------------------------------\u001b[0m",
      "\u001b[0;31mAttributeError\u001b[0m                            Traceback (most recent call last)",
      "\u001b[0;32m/var/folders/mb/q209wf797q9b2mggmld8bt8w0000gp/T/ipykernel_25243/1968463959.py\u001b[0m in \u001b[0;36m<module>\u001b[0;34m\u001b[0m\n\u001b[1;32m      6\u001b[0m \u001b[0;34m\u001b[0m\u001b[0m\n\u001b[1;32m      7\u001b[0m \u001b[0;31m# BNN\u001b[0m\u001b[0;34m\u001b[0m\u001b[0;34m\u001b[0m\u001b[0m\n\u001b[0;32m----> 8\u001b[0;31m \u001b[0mmu_bnn\u001b[0m\u001b[0;34m,\u001b[0m \u001b[0mvar_bnn\u001b[0m \u001b[0;34m=\u001b[0m \u001b[0mget_pred_for\u001b[0m\u001b[0;34m(\u001b[0m\u001b[0mX_val\u001b[0m\u001b[0;34m,\u001b[0m \u001b[0;34m'bnn'\u001b[0m\u001b[0;34m,\u001b[0m \u001b[0;34m'full'\u001b[0m\u001b[0;34m)\u001b[0m\u001b[0;34m\u001b[0m\u001b[0m\n\u001b[0m",
      "\u001b[0;32m/var/folders/mb/q209wf797q9b2mggmld8bt8w0000gp/T/ipykernel_25243/3471410968.py\u001b[0m in \u001b[0;36mget_pred_for\u001b[0;34m(x, model_type, cov_type)\u001b[0m\n\u001b[1;32m     12\u001b[0m         \u001b[0msamples\u001b[0m \u001b[0;34m=\u001b[0m \u001b[0mlap\u001b[0m\u001b[0;34m.\u001b[0m\u001b[0mpredictive_samples_bnn\u001b[0m\u001b[0;34m(\u001b[0m\u001b[0mx\u001b[0m\u001b[0;34m,\u001b[0m \u001b[0mn_samples\u001b[0m\u001b[0;34m=\u001b[0m\u001b[0mn_samples\u001b[0m\u001b[0;34m)\u001b[0m\u001b[0;34m\u001b[0m\u001b[0m\n\u001b[1;32m     13\u001b[0m         \u001b[0mmu\u001b[0m \u001b[0;34m=\u001b[0m \u001b[0msamples\u001b[0m\u001b[0;34m.\u001b[0m\u001b[0mmean\u001b[0m\u001b[0;34m(\u001b[0m\u001b[0maxis\u001b[0m\u001b[0;34m=\u001b[0m\u001b[0;36m0\u001b[0m\u001b[0;34m)\u001b[0m\u001b[0;34m\u001b[0m\u001b[0m\n\u001b[0;32m---> 14\u001b[0;31m         \u001b[0mvar\u001b[0m \u001b[0;34m=\u001b[0m \u001b[0msamples\u001b[0m\u001b[0;34m.\u001b[0m\u001b[0mcov\u001b[0m\u001b[0;34m(\u001b[0m\u001b[0maxis\u001b[0m\u001b[0;34m=\u001b[0m\u001b[0;36m0\u001b[0m\u001b[0;34m)\u001b[0m\u001b[0;34m\u001b[0m\u001b[0m\n\u001b[0m\u001b[1;32m     15\u001b[0m     \u001b[0;32melse\u001b[0m\u001b[0;34m:\u001b[0m\u001b[0;34m\u001b[0m\u001b[0m\n\u001b[1;32m     16\u001b[0m         \u001b[0;32mraise\u001b[0m \u001b[0mValueError\u001b[0m\u001b[0;34m(\u001b[0m\u001b[0;34m'unsupported model_type.'\u001b[0m\u001b[0;34m)\u001b[0m\u001b[0;34m\u001b[0m\u001b[0m\n",
      "\u001b[0;31mAttributeError\u001b[0m: 'Tensor' object has no attribute 'cov'"
     ]
    }
   ],
   "source": [
    "# GLM\n",
    "\n",
    "mu_glm, var_glm = get_pred_for(X_val, 'glm', 'full')# runs\n",
    "# mu_glm_kron, var_glm_kron = get_pred_for(X_val, 'glm', 'kron') # doesn't run\n",
    "#mu, var = get_pred_for(X_val, 'glm', 'diag')# doesn't run\n",
    "\n",
    "# BNN\n",
    "mu_bnn, var_bnn = get_pred_for(X_val, 'bnn', 'full')"
   ]
  },
  {
   "cell_type": "code",
   "execution_count": 79,
   "id": "3e83ddd5",
   "metadata": {},
   "outputs": [
    {
     "data": {
      "text/plain": [
       "torch.Size([33, 1])"
      ]
     },
     "execution_count": 79,
     "metadata": {},
     "output_type": "execute_result"
    }
   ],
   "source": [
    "y_val.shape"
   ]
  },
  {
   "cell_type": "code",
   "execution_count": 91,
   "id": "b6871c0a",
   "metadata": {},
   "outputs": [
    {
     "name": "stdout",
     "output_type": "stream",
     "text": [
      "tensor(6.7749)\n"
     ]
    }
   ],
   "source": [
    "lh_glm = Normal(mu_glm, var_glm)\n",
    "print(-torch.mean(lh_glm.log_prob(y_val.squeeze(-1))))"
   ]
  },
  {
   "cell_type": "code",
   "execution_count": 65,
   "id": "4935af6e",
   "metadata": {},
   "outputs": [
    {
     "ename": "RuntimeError",
     "evalue": "The size of tensor a (33) must match the size of tensor b (1000) at non-singleton dimension 0",
     "output_type": "error",
     "traceback": [
      "\u001b[0;31m---------------------------------------------------------------------------\u001b[0m",
      "\u001b[0;31mRuntimeError\u001b[0m                              Traceback (most recent call last)",
      "\u001b[0;32m/var/folders/mb/q209wf797q9b2mggmld8bt8w0000gp/T/ipykernel_25243/1320961574.py\u001b[0m in \u001b[0;36m<module>\u001b[0;34m\u001b[0m\n\u001b[0;32m----> 1\u001b[0;31m \u001b[0mprint\u001b[0m\u001b[0;34m(\u001b[0m\u001b[0;34m-\u001b[0m\u001b[0mlh\u001b[0m\u001b[0;34m.\u001b[0m\u001b[0mlog_likelihood\u001b[0m\u001b[0;34m(\u001b[0m\u001b[0my_val\u001b[0m\u001b[0;34m,\u001b[0m \u001b[0msamples_glm\u001b[0m\u001b[0;34m)\u001b[0m\u001b[0;34m)\u001b[0m\u001b[0;34m\u001b[0m\u001b[0m\n\u001b[0m\u001b[1;32m      2\u001b[0m \u001b[0mprint\u001b[0m\u001b[0;34m(\u001b[0m\u001b[0;34m-\u001b[0m\u001b[0mlh\u001b[0m\u001b[0;34m.\u001b[0m\u001b[0mlog_likelihood\u001b[0m\u001b[0;34m(\u001b[0m\u001b[0my_val\u001b[0m\u001b[0;34m,\u001b[0m \u001b[0msamples_bnn\u001b[0m\u001b[0;34m)\u001b[0m\u001b[0;34m)\u001b[0m\u001b[0;34m\u001b[0m\u001b[0m\n",
      "\u001b[0;32m~/miniconda3/envs/bnn-env-3/lib/python3.7/site-packages/preds/likelihoods.py\u001b[0m in \u001b[0;36mlog_likelihood\u001b[0;34m(self, y, f)\u001b[0m\n\u001b[1;32m     43\u001b[0m     \u001b[0;32mdef\u001b[0m \u001b[0mlog_likelihood\u001b[0m\u001b[0;34m(\u001b[0m\u001b[0mself\u001b[0m\u001b[0;34m,\u001b[0m \u001b[0my\u001b[0m\u001b[0;34m,\u001b[0m \u001b[0mf\u001b[0m\u001b[0;34m)\u001b[0m\u001b[0;34m:\u001b[0m\u001b[0;34m\u001b[0m\u001b[0m\n\u001b[1;32m     44\u001b[0m         \u001b[0mdist\u001b[0m \u001b[0;34m=\u001b[0m \u001b[0mNormal\u001b[0m\u001b[0;34m(\u001b[0m\u001b[0mf\u001b[0m\u001b[0;34m,\u001b[0m \u001b[0mself\u001b[0m\u001b[0;34m.\u001b[0m\u001b[0msigma_noise\u001b[0m\u001b[0;34m)\u001b[0m\u001b[0;34m\u001b[0m\u001b[0m\n\u001b[0;32m---> 45\u001b[0;31m         \u001b[0;32mreturn\u001b[0m \u001b[0mtorch\u001b[0m\u001b[0;34m.\u001b[0m\u001b[0msum\u001b[0m\u001b[0;34m(\u001b[0m\u001b[0mdist\u001b[0m\u001b[0;34m.\u001b[0m\u001b[0mlog_prob\u001b[0m\u001b[0;34m(\u001b[0m\u001b[0my\u001b[0m\u001b[0;34m)\u001b[0m\u001b[0;34m)\u001b[0m\u001b[0;34m\u001b[0m\u001b[0m\n\u001b[0m\u001b[1;32m     46\u001b[0m \u001b[0;34m\u001b[0m\u001b[0m\n\u001b[1;32m     47\u001b[0m     \u001b[0;32mdef\u001b[0m \u001b[0mresidual\u001b[0m\u001b[0;34m(\u001b[0m\u001b[0mself\u001b[0m\u001b[0;34m,\u001b[0m \u001b[0my\u001b[0m\u001b[0;34m,\u001b[0m \u001b[0mf\u001b[0m\u001b[0;34m)\u001b[0m\u001b[0;34m:\u001b[0m\u001b[0;34m\u001b[0m\u001b[0m\n",
      "\u001b[0;32m~/miniconda3/envs/bnn-env-3/lib/python3.7/site-packages/torch/distributions/normal.py\u001b[0m in \u001b[0;36mlog_prob\u001b[0;34m(self, value)\u001b[0m\n\u001b[1;32m     74\u001b[0m         \u001b[0mvar\u001b[0m \u001b[0;34m=\u001b[0m \u001b[0;34m(\u001b[0m\u001b[0mself\u001b[0m\u001b[0;34m.\u001b[0m\u001b[0mscale\u001b[0m \u001b[0;34m**\u001b[0m \u001b[0;36m2\u001b[0m\u001b[0;34m)\u001b[0m\u001b[0;34m\u001b[0m\u001b[0m\n\u001b[1;32m     75\u001b[0m         \u001b[0mlog_scale\u001b[0m \u001b[0;34m=\u001b[0m \u001b[0mmath\u001b[0m\u001b[0;34m.\u001b[0m\u001b[0mlog\u001b[0m\u001b[0;34m(\u001b[0m\u001b[0mself\u001b[0m\u001b[0;34m.\u001b[0m\u001b[0mscale\u001b[0m\u001b[0;34m)\u001b[0m \u001b[0;32mif\u001b[0m \u001b[0misinstance\u001b[0m\u001b[0;34m(\u001b[0m\u001b[0mself\u001b[0m\u001b[0;34m.\u001b[0m\u001b[0mscale\u001b[0m\u001b[0;34m,\u001b[0m \u001b[0mNumber\u001b[0m\u001b[0;34m)\u001b[0m \u001b[0;32melse\u001b[0m \u001b[0mself\u001b[0m\u001b[0;34m.\u001b[0m\u001b[0mscale\u001b[0m\u001b[0;34m.\u001b[0m\u001b[0mlog\u001b[0m\u001b[0;34m(\u001b[0m\u001b[0;34m)\u001b[0m\u001b[0;34m\u001b[0m\u001b[0m\n\u001b[0;32m---> 76\u001b[0;31m         \u001b[0;32mreturn\u001b[0m \u001b[0;34m-\u001b[0m\u001b[0;34m(\u001b[0m\u001b[0;34m(\u001b[0m\u001b[0mvalue\u001b[0m \u001b[0;34m-\u001b[0m \u001b[0mself\u001b[0m\u001b[0;34m.\u001b[0m\u001b[0mloc\u001b[0m\u001b[0;34m)\u001b[0m \u001b[0;34m**\u001b[0m \u001b[0;36m2\u001b[0m\u001b[0;34m)\u001b[0m \u001b[0;34m/\u001b[0m \u001b[0;34m(\u001b[0m\u001b[0;36m2\u001b[0m \u001b[0;34m*\u001b[0m \u001b[0mvar\u001b[0m\u001b[0;34m)\u001b[0m \u001b[0;34m-\u001b[0m \u001b[0mlog_scale\u001b[0m \u001b[0;34m-\u001b[0m \u001b[0mmath\u001b[0m\u001b[0;34m.\u001b[0m\u001b[0mlog\u001b[0m\u001b[0;34m(\u001b[0m\u001b[0mmath\u001b[0m\u001b[0;34m.\u001b[0m\u001b[0msqrt\u001b[0m\u001b[0;34m(\u001b[0m\u001b[0;36m2\u001b[0m \u001b[0;34m*\u001b[0m \u001b[0mmath\u001b[0m\u001b[0;34m.\u001b[0m\u001b[0mpi\u001b[0m\u001b[0;34m)\u001b[0m\u001b[0;34m)\u001b[0m\u001b[0;34m\u001b[0m\u001b[0m\n\u001b[0m\u001b[1;32m     77\u001b[0m \u001b[0;34m\u001b[0m\u001b[0m\n\u001b[1;32m     78\u001b[0m     \u001b[0;32mdef\u001b[0m \u001b[0mcdf\u001b[0m\u001b[0;34m(\u001b[0m\u001b[0mself\u001b[0m\u001b[0;34m,\u001b[0m \u001b[0mvalue\u001b[0m\u001b[0;34m)\u001b[0m\u001b[0;34m:\u001b[0m\u001b[0;34m\u001b[0m\u001b[0m\n",
      "\u001b[0;31mRuntimeError\u001b[0m: The size of tensor a (33) must match the size of tensor b (1000) at non-singleton dimension 0"
     ]
    }
   ],
   "source": [
    "lh_bnn = Normal(mu_bnn, var_bnn)\n",
    "print(-torch.mean(lh_bnn.log_prob(y_val.squeeze(-1))))"
   ]
  },
  {
   "cell_type": "markdown",
   "id": "4c109503",
   "metadata": {},
   "source": [
    "Run the classification pipeline for chosen dataset"
   ]
  },
  {
   "cell_type": "code",
   "execution_count": null,
   "id": "bf0a86a7",
   "metadata": {},
   "outputs": [
    {
     "name": "stdout",
     "output_type": "stream",
     "text": [
      "\r",
      "  0%|                                                    | 0/10 [00:00<?, ?it/s]"
     ]
    }
   ],
   "source": [
    "! python3 ../experiments/classification.py --dataset glass --root_dir ../data"
   ]
  },
  {
   "cell_type": "code",
   "execution_count": 93,
   "id": "c256f5b6",
   "metadata": {},
   "outputs": [
    {
     "data": {
      "text/plain": [
       "'/Users/tamire1/Documents/GitHub/BNN-predictions/notebooks'"
      ]
     },
     "execution_count": 93,
     "metadata": {},
     "output_type": "execute_result"
    }
   ],
   "source": [
    "import os\n",
    "os.getcwd()"
   ]
  }
 ],
 "metadata": {
  "kernelspec": {
   "display_name": "Python 3 (ipykernel)",
   "language": "python",
   "name": "python3"
  },
  "language_info": {
   "codemirror_mode": {
    "name": "ipython",
    "version": 3
   },
   "file_extension": ".py",
   "mimetype": "text/x-python",
   "name": "python",
   "nbconvert_exporter": "python",
   "pygments_lexer": "ipython3",
   "version": "3.7.0"
  }
 },
 "nbformat": 4,
 "nbformat_minor": 5
}
